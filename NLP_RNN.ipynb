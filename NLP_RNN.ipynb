{
 "cells": [
  {
   "cell_type": "markdown",
   "id": "888743b7",
   "metadata": {},
   "source": [
    "# RNN (Recurrent neural network)"
   ]
  },
  {
   "cell_type": "markdown",
   "id": "09d7acaf",
   "metadata": {},
   "source": [
    "# 순차 데이터(sequential data)\n",
    "\n",
    "- 텍스트나 시계열 데이터(time series data)와 같이 순서에 의미가 있는 데이터\n",
    "    - 예) \"I am a boy\"는 의미를 이해할 수 있지만 \"boy am I a\"는 의미를 이해할 수 없음\n",
    "    - 일별 온도 데이터에서 날짜 순서가 섞인다면 내일의 온도를 쉽게 예상하기 어려움\n",
    "    \n",
    "- 감성분석에서는 이전에 입력된 데이터를 기억하는 기능이 중요할 수 있음\n",
    "    - 예) \"별로지만 추천해요\"에서 \"추천해요\"를 해석할 때 앞의 \"별로지만\"을 기억하고 있어야 무조건 긍정이라고 판단하지 않음\n",
    "    - 퍼셉트론이나 CNN은 이런 기억장치가 없음\n",
    "        - 하나의 배치를 사용하여 정방향 연산을 수행하고 나면 해당 샘플은 다음 샘플을 처리할 때 사용하지 않음\n",
    "        - 이처럼 입력 데이터의 흐름이 앞으로만 전달되는 신경망을 피드포워드 신경망(feedforward neural network:FFNN)이라고 함\n",
    "    - 신경망이 이전에 처리했던 샘플을 다음 샘플을 처리할 때 재사용하기 위해서는 데이터가 신경망 층에서 순환을 해야 함"
   ]
  },
  {
   "cell_type": "markdown",
   "id": "089ae713",
   "metadata": {},
   "source": [
    "# 순환 신경망(recurrent neural network : RNN)\n",
    "\n",
    "<img src = \"./image/rnn.png\">"
   ]
  },
  {
   "cell_type": "markdown",
   "id": "301999f6",
   "metadata": {},
   "source": [
    "## 순환 신경망 구조\n",
    "\n",
    "- 피드포워드 신경망에 이전 데이터의 처리 흐름을 순환하는 고리 하나만 추가된 형태\n",
    "    - 바로 이전에 사용했던 데이터를 재사용하는 구조"
   ]
  },
  {
   "cell_type": "markdown",
   "id": "0c5bf30e",
   "metadata": {},
   "source": [
    "<img src = \"./image/rnn_image1.png\">"
   ]
  },
  {
   "cell_type": "markdown",
   "id": "67dab186",
   "metadata": {},
   "source": [
    "1. 첫 번째 샘플 x0를 처리하고 출력 h0이 다시 뉴런으로 입력됨\n",
    "    - h0에는 x0에 대한 정보가 포함되어 있음\n",
    "\n",
    "2. x1을 처리할 때 h0을 함께 사용\n",
    "    - h0과 x1을 사용해서 만든 h1에는 x0에 대한 정보가 어느 정도 포함되어 있음\n",
    "\n",
    "3. x2를 처리할 때 h1을 함께 사용\n",
    "    - 결과물 h2에는 x1과 x0에 대한 정보도 담겨있음\n",
    "    \n",
    "- 위의 과정처럼 샘플을 처리하는 각 단계를 타임스텝(timestep)이라고 말함\n",
    "    - 순환 신경망은 이전 타임스텝의 샘플을 기억한다\n",
    "    \n",
    "- 타임스텝이 오래될수록 순환되는 정보는 희미해짐\n",
    "\n",
    "- 순환신경망에서는 layer를 셀(cell)이라고 부름\n",
    "    - 하지만 입력에 가중치를 곱하고 활성화 함수를 통과시켜 다음 층으로 전달하는 기본 구조는 똑같음\n",
    "    - 한 셀에는 여러 개의 뉴런이 있지만 일반적으로 모든 뉴런을 표시하지 않고 하나의 셀로 층을 표현함\n",
    "    \n",
    "- 셀의 출력은 은닉 상태(hidden state)라고 부름"
   ]
  },
  {
   "cell_type": "markdown",
   "id": "fe2827e6",
   "metadata": {},
   "source": [
    "## 하이퍼볼릭 탄젠트 함수\n",
    "\n",
    "<img src = \"./image/tanh.png\">"
   ]
  },
  {
   "cell_type": "markdown",
   "id": "2df9cec1",
   "metadata": {},
   "source": [
    "- 일반적으로 은닉층의 활성화 함수로는 하이퍼볼릭 탄젠트(hyperbolic tangent)함수인 tanh가 많이 활용됨\n",
    "    - tanh함수는 -1 ~ 1 사이의 범위를 가짐"
   ]
  },
  {
   "cell_type": "markdown",
   "id": "185372eb",
   "metadata": {},
   "source": [
    "## 가중치 공유\n",
    "\n",
    "<img src = \"./image/rnn_weight.png\">"
   ]
  },
  {
   "cell_type": "markdown",
   "id": "2090f72c",
   "metadata": {},
   "source": [
    "- 순환 신경망도 피드포워드 신경망과 같이 입력값과 가중치를 곱하지만 이전 타임스텝의 은닉상태에 곱해지는 가중치가 하나 더 있음\n",
    "- 모든 타임스텝에서 사용되는 가중치 w는 하나임\n",
    "    - 가중치 w는 타임스텝에 따라 변화되는 뉴런의 출력을 학습\n",
    "- 맨 처음 타임스텝1에서 사용되는 이전 은닉상태 h0는 이전 타임스텝이 없기 때문에 0으로 초기화"
   ]
  },
  {
   "cell_type": "markdown",
   "id": "457c7d43",
   "metadata": {},
   "source": [
    "## 파라미터 수\n",
    "\n",
    "<img src = \"./image/rnn_param.png\">"
   ]
  },
  {
   "cell_type": "markdown",
   "id": "b04dc6e3",
   "metadata": {},
   "source": [
    "- 각 뉴런의 은닉 상태가 다음 스텝에 재사용될 때 모든 뉴런에 값이 전달됨\n",
    "    - 즉, 이전 타임스텝의 은닉 상태는 다음 타임스텝의 모든 뉴런에 완전연결됨\n",
    "- 순환신경망의 파라미터 수 = (유닛 수 * 유닛 수) + (입력값의 수 * 유닛 수) + 유닛 수"
   ]
  },
  {
   "cell_type": "markdown",
   "id": "d34af54b",
   "metadata": {},
   "source": [
    "## 입력\n",
    "\n",
    "- 합성곱 층의 입력은 하나의 샘플이 3개의 차원을 가짐\n",
    "    - 너비, 높이, 채널\n",
    "    \n",
    "- 순환층은 일반적으로 샘플마다 2개의 차원을 가짐\n",
    "    - 하나의 샘플을 하나의 시퀀스(sequence)라고 말함\n",
    "    - 하나의 시퀀스 안에는 여러 개의 아이템이 들어 있음\n",
    "    - 시퀀스의 길이가 타임 스텝의 길이가 됨\n",
    "        - 예) 샘플 \"I am a boy\"는 4개의 아이템으로 구성된 시퀀스\n",
    "        - 각 아이템을 3개의 숫자로 표현한다면 타임스텝의 크기는 (1, 4, 3)\n",
    "        \n",
    "- 입력이 순환층을 통과하면 순환층의 뉴런 개수만큼 출력됨\n",
    "    - 하나의 샘플은 (단어의 개수, 단어 표현)의 2차원 배열\n",
    "    - 순환층을 통과하면 1차원 배열로 바뀜\n",
    "        - 이 1차원 배열의 크기는 순환층의 뉴런의 개수\n",
    "    - 기본적으로 순환층은 마지막 타임스텝의 은닉 상태만 출력으로 내보냄\n",
    "        - 입력된 시퀀스를 모두 읽어서 정보를 마지막 은닉 상태에 압축하여 전달\n",
    "            - ex) 스팸메일을 받고 단어 하나 하나만으로는 판별 불가. 모든 내용을 보고 판별해야 함\n",
    "            \n",
    "- 만약 순환층을 여러 개 쌓는다면\n",
    "    - 순환층의 입력은 샘플마다 타임스텝과 단어 표현으로 이루어진 2차원 배열이어야 함\n",
    "        - "
   ]
  },
  {
   "cell_type": "markdown",
   "id": "65c62464",
   "metadata": {},
   "source": [
    "# IMDB 리뷰 데이터셋\n",
    "\n",
    "- 유명한 인터넷 영화 데이터베이스인 imdb.com에서 수집한 리뷰의 감상평에 따라 긍정과 부정으로 분류해 놓은 말뭉치"
   ]
  },
  {
   "cell_type": "markdown",
   "id": "24a5ba00",
   "metadata": {},
   "source": [
    "## 자연어 처리(natural language procession: NLP)\n",
    "\n",
    "- 컴퓨터를 사용해 인간의 언어를 처리하는 분야\n",
    "- 세부 분야\n",
    "    - 음성 인식\n",
    "    - 기계 번역\n",
    "    - 감성 분석\n",
    "    \n",
    "- 자연어 처리 분야에서는 훈련 데이터를 말뭉치(corpus)라고 부름"
   ]
  },
  {
   "cell_type": "markdown",
   "id": "dafc432f",
   "metadata": {},
   "source": [
    "## 임베딩\n",
    "\n",
    "- 사람이 쓰는 자연어를 기계가 이해할 수 있는 숫자의 나열인 벡터로 바꾼 결과 혹은 그 과정 전체\n",
    "- 컴퓨터에서 처리하는 모든 것은 숫자로 이루어진 데이터\n",
    "    - 따라서 텍스트 그 자체를 신경망에 전달하지 않음\n",
    "    - 합성곱 신경망에서 이미지를 다룰 때 이미지가 정수 픽셀값으로 이루어져 있어서 특별히 변환을 하지 않음\n",
    "    \n",
    "- 텍스트 임베딩의 가장 쉬운 방법은 데이터에 등장하는 단어마다 고유한 정수를 부여하는 것\n",
    "    - 예)\n",
    "        - he : 10\n",
    "        - follow : 11\n",
    "        - the : 12\n",
    "        - cat : 13\n",
    "    - 단어에 매핑되는 정수는 단어의 의미나 크기와 관련이 없음\n",
    "        - he를 10으로 매핑하고 cat을 13에 매핑하더라도 cat이 he보다 좋거나 크다는 뜻이 아님\n",
    "        \n",
    "    - 정수 중 몇 가지는 특정한 용도로 예약되어 있는 경우가 많음\n",
    "        - 0 ; 패딩, 1 : 문장의 시작, 2 : 어휘 사전에 없는 토큰\n",
    "            - 어휘 사전 : 훈련 세트에서 고유한 단어를 뽑아 만든 목로\n",
    "            \n",
    "- 일반저긍로 영어 문장은 모두 소문자로 바꾸고 구두점을 삭제한 기준으로 분리\n",
    "    - 이렇게 분리한 단어를 토큰(token)이라고 부름\n",
    "        - 하나의 샘플은 여러 개의 토큰으로 이루어져 있고 이 때 하나의 토큰이 하나의 타음스텝에 해당\n",
    "    - 영어 말뭉치에서 토큰은 단어와 같이 취급하는 경우가 많음\n",
    "        - 한국어는 조사가 발달되어 있어 공백으로 나누는 것 만으로는 부족함\n",
    "            - 일반적으로 한글은 형태소 분석을 통해 토큰을 불리"
   ]
  },
  {
   "cell_type": "markdown",
   "id": "289fda3b",
   "metadata": {},
   "source": [
    "# 원핫 인코딩을 활용한 RNN텍스트 분류"
   ]
  },
  {
   "cell_type": "markdown",
   "id": "4c428813",
   "metadata": {},
   "source": [
    "## 데이터 준비"
   ]
  },
  {
   "cell_type": "code",
   "execution_count": 1,
   "id": "cf08ac2d",
   "metadata": {},
   "outputs": [],
   "source": [
    "from tensorflow.keras.datasets import imdb\n",
    "from tensorflow.keras.preprocessing.sequence import pad_sequences\n",
    "from tensorflow import keras\n",
    "from sklearn.model_selection import train_test_split\n",
    "import numpy as np\n",
    "import matplotlib.pyplot as plt"
   ]
  },
  {
   "cell_type": "code",
   "execution_count": 2,
   "id": "76139236",
   "metadata": {},
   "outputs": [
    {
     "name": "stdout",
     "output_type": "stream",
     "text": [
      "Downloading data from https://storage.googleapis.com/tensorflow/tf-keras-datasets/imdb.npz\n",
      "17464789/17464789 [==============================] - 7s 0us/step\n"
     ]
    }
   ],
   "source": [
    "# 전체 데이터셋에서 가장 자주 등장하는 단어 500개만 사용\n",
    "# num_words : 단어 빈도가 가장 많은 순서로 num_words만큼 보존한다\n",
    "(x_train, y_train), (x_test, y_test) = imdb.load_data(num_words = 500)"
   ]
  },
  {
   "cell_type": "code",
   "execution_count": 3,
   "id": "6a1f772b",
   "metadata": {},
   "outputs": [
    {
     "name": "stdout",
     "output_type": "stream",
     "text": [
      "(25000,) (25000,)\n"
     ]
    }
   ],
   "source": [
    "# 훈련 세트, 테스트 세트의 크기 확인\n",
    "print(x_train.shape, x_test.shape)"
   ]
  },
  {
   "cell_type": "code",
   "execution_count": 4,
   "id": "76805b7e",
   "metadata": {},
   "outputs": [
    {
     "data": {
      "text/plain": [
       "(218, 189)"
      ]
     },
     "execution_count": 4,
     "metadata": {},
     "output_type": "execute_result"
    }
   ],
   "source": [
    "# 리뷰의 길이 출력\n",
    "len(x_train[0]), len(x_train[1])"
   ]
  },
  {
   "cell_type": "code",
   "execution_count": 5,
   "id": "4d56455f",
   "metadata": {},
   "outputs": [
    {
     "data": {
      "text/plain": [
       "list"
      ]
     },
     "execution_count": 5,
     "metadata": {},
     "output_type": "execute_result"
    }
   ],
   "source": [
    "type(x_train[0])"
   ]
  },
  {
   "cell_type": "markdown",
   "id": "76a041fa",
   "metadata": {},
   "source": [
    "- 각각 25000개의 샘플로 이루어져 있음\n",
    "- 텍스트 길이가 제각각임\n",
    "    - 고정 크기의 2차원 배열에 담는 것 보다 리뷰마다 별도의 파이썬 리스트로 담아야 메모리를 효율적으로 사용할 수 있음"
   ]
  },
  {
   "cell_type": "code",
   "execution_count": 6,
   "id": "48a887d4",
   "metadata": {},
   "outputs": [
    {
     "name": "stdout",
     "output_type": "stream",
     "text": [
      "[1, 14, 22, 16, 43, 2, 2, 2, 2, 65, 458, 2, 66, 2, 4, 173, 36, 256, 5, 25, 100, 43, 2, 112, 50, 2, 2, 9, 35, 480, 284, 5, 150, 4, 172, 112, 167, 2, 336, 385, 39, 4, 172, 2, 2, 17, 2, 38, 13, 447, 4, 192, 50, 16, 6, 147, 2, 19, 14, 22, 4, 2, 2, 469, 4, 22, 71, 87, 12, 16, 43, 2, 38, 76, 15, 13, 2, 4, 22, 17, 2, 17, 12, 16, 2, 18, 2, 5, 62, 386, 12, 8, 316, 8, 106, 5, 4, 2, 2, 16, 480, 66, 2, 33, 4, 130, 12, 16, 38, 2, 5, 25, 124, 51, 36, 135, 48, 25, 2, 33, 6, 22, 12, 215, 28, 77, 52, 5, 14, 407, 16, 82, 2, 8, 4, 107, 117, 2, 15, 256, 4, 2, 7, 2, 5, 2, 36, 71, 43, 2, 476, 26, 400, 317, 46, 7, 4, 2, 2, 13, 104, 88, 4, 381, 15, 297, 98, 32, 2, 56, 26, 141, 6, 194, 2, 18, 4, 226, 22, 21, 134, 476, 26, 480, 5, 144, 30, 2, 18, 51, 36, 28, 224, 92, 25, 104, 4, 226, 65, 16, 38, 2, 88, 12, 16, 283, 5, 16, 2, 113, 103, 32, 15, 16, 2, 19, 178, 32]\n"
     ]
    }
   ],
   "source": [
    "print(x_train[0])"
   ]
  },
  {
   "cell_type": "code",
   "execution_count": 7,
   "id": "9cd3d7e5",
   "metadata": {},
   "outputs": [
    {
     "name": "stdout",
     "output_type": "stream",
     "text": [
      "[1 0 0 1 0 0 1 0 1 0 1 0 0 0 0 0 1 1 0 1]\n"
     ]
    }
   ],
   "source": [
    "# 타겟 데이터\n",
    "# 0 : 부정, 1 : 긍정\n",
    "print(y_train[:20])"
   ]
  },
  {
   "cell_type": "code",
   "execution_count": 8,
   "id": "11f86a4b",
   "metadata": {},
   "outputs": [],
   "source": [
    "x_train, x_val, y_train, y_val = train_test_split(x_train, y_train,\n",
    "                                                  test_size = .2, random_state = 486)"
   ]
  },
  {
   "cell_type": "markdown",
   "id": "5827f096",
   "metadata": {},
   "source": [
    "### 각 리뷰의 길이 확인\n",
    "\n",
    "- 각 리뷰의 길이를 넘파이 배열로 담아 평균 리뷰 길이, 길이 최소값, 길이 최대값을 확인"
   ]
  },
  {
   "cell_type": "code",
   "execution_count": 9,
   "id": "b4303953",
   "metadata": {},
   "outputs": [],
   "source": [
    "length = np.array([len(x) for x in x_train])"
   ]
  },
  {
   "cell_type": "code",
   "execution_count": 10,
   "id": "476f1cd6",
   "metadata": {},
   "outputs": [
    {
     "name": "stdout",
     "output_type": "stream",
     "text": [
      "238.3296 178.0 11 2494\n"
     ]
    }
   ],
   "source": [
    "# 길이 평균값과 중앙값\n",
    "print(np.mean(length), np.median(length), np.min(length), np.max(length))"
   ]
  },
  {
   "cell_type": "code",
   "execution_count": 11,
   "id": "f2a3a81b",
   "metadata": {},
   "outputs": [],
   "source": [
    "plt.style.use([\"dark_background\"])"
   ]
  },
  {
   "cell_type": "code",
   "execution_count": 12,
   "id": "171debb1",
   "metadata": {},
   "outputs": [
    {
     "data": {
      "image/png": "[encoded data removed]",
      "text/plain": [
       "<Figure size 640x480 with 1 Axes>"
      ]
     },
     "metadata": {},
     "output_type": "display_data"
    }
   ],
   "source": [
    "plt.figure()\n",
    "\n",
    "plt.hist(length)\n",
    "\n",
    "plt.xlabel(\"length\")\n",
    "plt.ylabel(\"frequency\")\n",
    "\n",
    "plt.show()"
   ]
  },
  {
   "cell_type": "markdown",
   "id": "85ede671",
   "metadata": {},
   "source": [
    "- 평균이 중간값보다 높은 이유는 아주 큰 데이터가 있기 때문\n",
    "- 대부분의 리뷰는 짧기 때문에 이번 예제에서는 리뷰의 길이를 100에 맞춰서 사용\n",
    "    - 100보다 짧은 리뷰는 길이를 100에 맞추기 위해 패딩이 필요\n",
    "        - 패딩을 나타내는 토큰으로는 0을 사용"
   ]
  },
  {
   "cell_type": "code",
   "execution_count": 13,
   "id": "a1e39034",
   "metadata": {},
   "outputs": [],
   "source": [
    "# x_train의 길이를 100으로 맞추기\n",
    "train_seq = pad_sequences(x_train, maxlen = 100)"
   ]
  },
  {
   "cell_type": "markdown",
   "id": "9c924766",
   "metadata": {},
   "source": [
    "- maxlen에 원하는 길이를 지정하면 그것보다 긴 경우는 잘라내고 짧은 경우는 0으로 패딩"
   ]
  },
  {
   "cell_type": "code",
   "execution_count": 14,
   "id": "e2e4aa6c",
   "metadata": {},
   "outputs": [
    {
     "data": {
      "text/plain": [
       "(20000, 100)"
      ]
     },
     "execution_count": 14,
     "metadata": {},
     "output_type": "execute_result"
    }
   ],
   "source": [
    "# train_seq 크기 확인\n",
    "train_seq.shape"
   ]
  },
  {
   "cell_type": "code",
   "execution_count": 15,
   "id": "eccb193d",
   "metadata": {},
   "outputs": [
    {
     "name": "stdout",
     "output_type": "stream",
     "text": [
      "[ 30  55  52   2   4  65   9  24   2  12   9 254   8 264  15   6 226   2\n",
      "  80   2   2   8  81 233  29 494  43  88  36  26   2   7  27   2  82  54\n",
      "   6 132 287  90   6 318   2  15  80   2   2  38  29  47  24   8   2   4\n",
      "   2  25   2  15  48  15  80  97  90   2 138  32   4   2  28  24   2  12\n",
      "  13 104  15  14  22 144  24  28  77   2  88 101  22  19   2   9 290 319\n",
      "   5  11   2   7  94   2  12   9 131   2]\n"
     ]
    }
   ],
   "source": [
    "print(train_seq[0])"
   ]
  },
  {
   "cell_type": "code",
   "execution_count": 16,
   "id": "cae2c44b",
   "metadata": {},
   "outputs": [
    {
     "name": "stdout",
     "output_type": "stream",
     "text": [
      "[5, 11, 2, 7, 94, 2, 12, 9, 131, 2]\n"
     ]
    }
   ],
   "source": [
    "print(x_train[0][-10:])"
   ]
  },
  {
   "cell_type": "markdown",
   "id": "b20699b5",
   "metadata": {},
   "source": [
    "- pad_sequence() 함수는 기본적으로 maxlen보다 긴 시퀀스의 앞 부분을 잘라냄\n",
    "    - 일반적으로 시퀀스 뒷 부분의 정보가 더 유용하기 때문\n",
    "        - 리뷰의 결정적인 소감을 말할 가능성이 높음\n",
    "    - 시퀀스의 뒷 부분을 잘라내고 싶다면\n",
    "        - truncating 매개변수 값을 \"post\"로 변경\n",
    "            - 기본값은 \"pre\""
   ]
  },
  {
   "cell_type": "code",
   "execution_count": 17,
   "id": "b9d606e8",
   "metadata": {},
   "outputs": [
    {
     "data": {
      "text/plain": [
       "array([  0,   0,   0,   0,   0,   0,   0,   0,   0,   0,   0,   0,   0,\n",
       "         0,   0,   0,   0,   0,   0,   0,   0,   0,   0,   0,   0,   0,\n",
       "         0,   0,   0,   0,   0,   0,   0,   0,   0,   0,   0,   0,   0,\n",
       "         0,   0,   0,   0,   0,   0,   0,   0,   0,   0,   1, 280,  11,\n",
       "         6, 137,  25,  79,   2, 120,  89,  78,   6,  22,  70,  30,   5,\n",
       "        89,  11,   4, 182,   2, 100,   2, 278,   8,  97,  14, 243,   7,\n",
       "         2,  50,   9, 427,  57,   2,   2,  11,  14,  22,  39,   6,   2,\n",
       "       229,   8,   6,   2,  65,   8,   2, 116, 480])"
      ]
     },
     "execution_count": 17,
     "metadata": {},
     "output_type": "execute_result"
    }
   ],
   "source": [
    "train_seq[11]"
   ]
  },
  {
   "cell_type": "markdown",
   "id": "37543f18",
   "metadata": {},
   "source": [
    "- 패딩 토큰은 시퀀스의 앞 부분에 추가됨\n",
    "    - 시퀀스의 마지막에 있는 단어가 셀의 은닉상태에 가장 큰 영향을 미치게 되기 때문에\n",
    "    - 뒷 부분에 패딩을 추가하고 싶다면\n",
    "        - padding 매개변수의 값을 \"post\"로 수정\n",
    "            - 기본값은 \"pre\""
   ]
  },
  {
   "cell_type": "code",
   "execution_count": 18,
   "id": "fe1a19f9",
   "metadata": {},
   "outputs": [],
   "source": [
    "# 검증 세트의 길이를 100으로 맞추기\n",
    "val_seq = pad_sequences(x_val, maxlen = 100)"
   ]
  },
  {
   "cell_type": "markdown",
   "id": "cfed01c4",
   "metadata": {},
   "source": [
    "## 모델 구성\n",
    "\n",
    "- 케라스의 SimpleRNN 클래스 활용\n",
    "- 이진 분류\n",
    "    - 출력층은 1개의 뉴런을 가지고 시그모이드 출력층 함수를 사용"
   ]
  },
  {
   "cell_type": "code",
   "execution_count": 19,
   "id": "b7310b07",
   "metadata": {},
   "outputs": [],
   "source": [
    "model = keras.Sequential()\n",
    "\n",
    "model.add(keras.layers.SimpleRNN(8, input_shape = (100, 500)))\n",
    "model.add(keras.layers.Dense(1, activation = \"sigmoid\"))"
   ]
  },
  {
   "cell_type": "markdown",
   "id": "894bbed6",
   "metadata": {},
   "source": [
    "- SimpleRNN\n",
    "    - 첫 번째 매개변수는 사용할 뉴런의 개수\n",
    "    - input_shape\n",
    "        - 입력 차원의 첫 번째 차원은 샘플의 길이\n",
    "        - 입력 차원의 두 번째 차원은 고유한 단어 수(num_words)\n",
    "            - load_data()함수에서 500개의 단어만 사용하도록 지정했기 때문에 이번 예제의 고유한 단어 수는 500\n",
    "    - activation\n",
    "        - 기본값은 \"tanh\"\n",
    "            - 하이퍼볼릭 탄젠트"
   ]
  },
  {
   "cell_type": "markdown",
   "id": "351f6b03",
   "metadata": {},
   "source": [
    "- 원핫인코딩을 사용하는 이유\n",
    "    - 토큰을 정수로 변환한 데이터를 그대로 신경망에 주입하면 큰 점수가 큰 활성화 출력을 만듦\n",
    "        - 정수 사이에는 어떤 관련도 없고 20번 토큰이 10번 토큰보다 중요한 것이 아님"
   ]
  },
  {
   "cell_type": "code",
   "execution_count": 20,
   "id": "00f3d558",
   "metadata": {},
   "outputs": [],
   "source": [
    "# 케라스에서 제공하는 원핫인코딩을 위한 함수\n",
    "train_oh = keras.utils.to_categorical(train_seq)"
   ]
  },
  {
   "cell_type": "code",
   "execution_count": 21,
   "id": "c54e63c8",
   "metadata": {},
   "outputs": [
    {
     "name": "stdout",
     "output_type": "stream",
     "text": [
      "(20000, 100, 500)\n"
     ]
    }
   ],
   "source": [
    "print(train_oh.shape)"
   ]
  },
  {
   "cell_type": "code",
   "execution_count": 22,
   "id": "074ff03f",
   "metadata": {},
   "outputs": [
    {
     "name": "stdout",
     "output_type": "stream",
     "text": [
      "[0. 0. 0. 0. 0. 0. 0. 0. 0. 0. 0. 0. 0. 0. 0. 0. 0. 0. 0. 0. 0. 0. 0. 0.\n",
      " 0. 0. 0. 0. 0. 0. 1. 0. 0. 0. 0. 0. 0. 0. 0. 0. 0. 0. 0. 0. 0. 0. 0. 0.\n",
      " 0. 0. 0. 0. 0. 0. 0. 0. 0. 0. 0. 0. 0. 0. 0. 0. 0. 0. 0. 0. 0. 0. 0. 0.\n",
      " 0. 0. 0. 0. 0. 0. 0. 0. 0. 0. 0. 0. 0. 0. 0. 0. 0. 0. 0. 0. 0. 0. 0. 0.\n",
      " 0. 0. 0. 0.]\n"
     ]
    }
   ],
   "source": [
    "print(train_oh[0][0][:100])"
   ]
  },
  {
   "cell_type": "code",
   "execution_count": 23,
   "id": "963d1c3d",
   "metadata": {},
   "outputs": [
    {
     "name": "stdout",
     "output_type": "stream",
     "text": [
      "1.0\n"
     ]
    }
   ],
   "source": [
    "print(np.sum(train_oh[0][0]))"
   ]
  },
  {
   "cell_type": "markdown",
   "id": "288a77fa",
   "metadata": {},
   "source": [
    "- 하나의 원소만 1이고 나머지 원소는 모두 0임"
   ]
  },
  {
   "cell_type": "code",
   "execution_count": 24,
   "id": "bea006f9",
   "metadata": {},
   "outputs": [],
   "source": [
    "# val_seq 원핫인코딩\n",
    "val_oh = keras.utils.to_categorical(val_seq)"
   ]
  },
  {
   "cell_type": "code",
   "execution_count": 25,
   "id": "f554c74e",
   "metadata": {},
   "outputs": [
    {
     "name": "stdout",
     "output_type": "stream",
     "text": [
      "Model: \"sequential\"\n",
      "_________________________________________________________________\n",
      " Layer (type)                Output Shape              Param #   \n",
      "=================================================================\n",
      " simple_rnn (SimpleRNN)      (None, 8)                 4072      \n",
      "                                                                 \n",
      " dense (Dense)               (None, 1)                 9         \n",
      "                                                                 \n",
      "=================================================================\n",
      "Total params: 4,081\n",
      "Trainable params: 4,081\n",
      "Non-trainable params: 0\n",
      "_________________________________________________________________\n"
     ]
    }
   ],
   "source": [
    "model.summary()"
   ]
  },
  {
   "cell_type": "markdown",
   "id": "8b83822f",
   "metadata": {},
   "source": [
    "- SimpleRNN에 전달할 샘플의 크기는 (100, 100)이지만 순환층은 마지막 타임스텝의 은닉 상태만 출력\n",
    "    - 출력의 크기가 순환층의 뉴런 개수와 동일\n",
    "    \n",
    "- 파라미터 개수\n",
    "    - 입력 토큰은 500 차원의 원핫인코딩 배열\n",
    "    - 배열이 순환층의 뉴런 8개와 완전연결\n",
    "        - 500 * 8 = 4000\n",
    "        \n",
    "    - 순환층의 은닉상태는 다시 다음 타임스텝에 사용하기 위해 또 다른 가중치와 곱해짐\n",
    "        - 은닉상태의 크기 * 뉴런개수\n",
    "            - 8 * 8 = 64\n",
    "            \n",
    "    - 각 뉴런마다 하나의 절편\n",
    "        - 8\n",
    "    \n",
    "    - 4000 + 64 + 8 = 4072"
   ]
  },
  {
   "cell_type": "markdown",
   "id": "e252239e",
   "metadata": {},
   "source": [
    "# 모델 훈련"
   ]
  },
  {
   "cell_type": "code",
   "execution_count": 26,
   "id": "df8c66e3",
   "metadata": {},
   "outputs": [],
   "source": [
    "rmsprop = keras.optimizers.RMSprop(learning_rate = 1e-4)\n",
    "model.compile(optimizer = rmsprop, loss = \"binary_crossentropy\", metrics = [\"accuracy\"])\n",
    "checkpoint_cb = keras.callbacks.ModelCheckpoint(\"./model/best-simplernn-model.h5\", save_best_only = True)\n",
    "early_stopping_cb = keras.callbacks.EarlyStopping(patience = 3, restore_best_weights = True)"
   ]
  },
  {
   "cell_type": "code",
   "execution_count": 27,
   "id": "ae428ede",
   "metadata": {
    "scrolled": true
   },
   "outputs": [
    {
     "name": "stdout",
     "output_type": "stream",
     "text": [
      "Epoch 1/100\n",
      "313/313 [==============================] - 6s 16ms/step - loss: 0.6974 - accuracy: 0.5052 - val_loss: 0.6933 - val_accuracy: 0.5162\n",
      "Epoch 2/100\n",
      "313/313 [==============================] - 5s 17ms/step - loss: 0.6923 - accuracy: 0.5160 - val_loss: 0.6916 - val_accuracy: 0.5220\n",
      "Epoch 3/100\n",
      "313/313 [==============================] - 5s 17ms/step - loss: 0.6904 - accuracy: 0.5263 - val_loss: 0.6903 - val_accuracy: 0.5308\n",
      "Epoch 4/100\n",
      "313/313 [==============================] - 6s 20ms/step - loss: 0.6887 - accuracy: 0.5385 - val_loss: 0.6887 - val_accuracy: 0.5358\n",
      "Epoch 5/100\n",
      "313/313 [==============================] - 5s 17ms/step - loss: 0.6856 - accuracy: 0.5538 - val_loss: 0.6832 - val_accuracy: 0.5560\n",
      "Epoch 6/100\n",
      "313/313 [==============================] - 6s 19ms/step - loss: 0.6710 - accuracy: 0.5997 - val_loss: 0.6645 - val_accuracy: 0.6074\n",
      "Epoch 7/100\n",
      "313/313 [==============================] - 6s 20ms/step - loss: 0.6530 - accuracy: 0.6382 - val_loss: 0.6476 - val_accuracy: 0.6388\n",
      "Epoch 8/100\n",
      "313/313 [==============================] - 5s 17ms/step - loss: 0.6331 - accuracy: 0.6697 - val_loss: 0.6269 - val_accuracy: 0.6696\n",
      "Epoch 9/100\n",
      "313/313 [==============================] - 6s 18ms/step - loss: 0.6107 - accuracy: 0.6930 - val_loss: 0.6031 - val_accuracy: 0.7062\n",
      "Epoch 10/100\n",
      "313/313 [==============================] - 6s 19ms/step - loss: 0.5880 - accuracy: 0.7150 - val_loss: 0.5902 - val_accuracy: 0.6988\n",
      "Epoch 11/100\n",
      "313/313 [==============================] - 5s 17ms/step - loss: 0.5662 - accuracy: 0.7336 - val_loss: 0.5620 - val_accuracy: 0.7428\n",
      "Epoch 12/100\n",
      "313/313 [==============================] - 6s 18ms/step - loss: 0.5473 - accuracy: 0.7469 - val_loss: 0.5460 - val_accuracy: 0.7454\n",
      "Epoch 13/100\n",
      "313/313 [==============================] - 6s 19ms/step - loss: 0.5309 - accuracy: 0.7556 - val_loss: 0.5351 - val_accuracy: 0.7486\n",
      "Epoch 14/100\n",
      "313/313 [==============================] - 6s 18ms/step - loss: 0.5166 - accuracy: 0.7621 - val_loss: 0.5205 - val_accuracy: 0.7574\n",
      "Epoch 15/100\n",
      "313/313 [==============================] - 6s 18ms/step - loss: 0.5040 - accuracy: 0.7699 - val_loss: 0.5146 - val_accuracy: 0.7574\n",
      "Epoch 16/100\n",
      "313/313 [==============================] - 6s 19ms/step - loss: 0.4935 - accuracy: 0.7767 - val_loss: 0.5039 - val_accuracy: 0.7662\n",
      "Epoch 17/100\n",
      "313/313 [==============================] - 6s 18ms/step - loss: 0.4841 - accuracy: 0.7812 - val_loss: 0.4976 - val_accuracy: 0.7726\n",
      "Epoch 18/100\n",
      "313/313 [==============================] - 6s 18ms/step - loss: 0.4763 - accuracy: 0.7844 - val_loss: 0.4968 - val_accuracy: 0.7646\n",
      "Epoch 19/100\n",
      "313/313 [==============================] - 6s 19ms/step - loss: 0.4695 - accuracy: 0.7872 - val_loss: 0.4868 - val_accuracy: 0.7766\n",
      "Epoch 20/100\n",
      "313/313 [==============================] - 6s 18ms/step - loss: 0.4627 - accuracy: 0.7904 - val_loss: 0.4856 - val_accuracy: 0.7760\n",
      "Epoch 21/100\n",
      "313/313 [==============================] - 6s 18ms/step - loss: 0.4582 - accuracy: 0.7924 - val_loss: 0.4778 - val_accuracy: 0.7796\n",
      "Epoch 22/100\n",
      "313/313 [==============================] - 6s 20ms/step - loss: 0.4532 - accuracy: 0.7943 - val_loss: 0.4815 - val_accuracy: 0.7778\n",
      "Epoch 23/100\n",
      "313/313 [==============================] - 6s 21ms/step - loss: 0.4498 - accuracy: 0.7973 - val_loss: 0.4820 - val_accuracy: 0.7768\n",
      "Epoch 24/100\n",
      "313/313 [==============================] - 6s 20ms/step - loss: 0.4460 - accuracy: 0.7997 - val_loss: 0.4741 - val_accuracy: 0.7766\n",
      "Epoch 25/100\n",
      "313/313 [==============================] - 6s 19ms/step - loss: 0.4425 - accuracy: 0.8034 - val_loss: 0.4699 - val_accuracy: 0.7810\n",
      "Epoch 26/100\n",
      "313/313 [==============================] - 6s 19ms/step - loss: 0.4394 - accuracy: 0.8019 - val_loss: 0.4775 - val_accuracy: 0.7794\n",
      "Epoch 27/100\n",
      "313/313 [==============================] - 7s 22ms/step - loss: 0.4368 - accuracy: 0.8028 - val_loss: 0.4787 - val_accuracy: 0.7782\n",
      "Epoch 28/100\n",
      "313/313 [==============================] - 8s 24ms/step - loss: 0.4339 - accuracy: 0.8077 - val_loss: 0.4655 - val_accuracy: 0.7798\n",
      "Epoch 29/100\n",
      "313/313 [==============================] - 8s 25ms/step - loss: 0.4320 - accuracy: 0.8065 - val_loss: 0.4731 - val_accuracy: 0.7760\n",
      "Epoch 30/100\n",
      "313/313 [==============================] - 7s 22ms/step - loss: 0.4290 - accuracy: 0.8075 - val_loss: 0.4648 - val_accuracy: 0.7830\n",
      "Epoch 31/100\n",
      "313/313 [==============================] - 7s 21ms/step - loss: 0.4279 - accuracy: 0.8071 - val_loss: 0.4635 - val_accuracy: 0.7842\n",
      "Epoch 32/100\n",
      "313/313 [==============================] - 6s 20ms/step - loss: 0.4265 - accuracy: 0.8098 - val_loss: 0.4595 - val_accuracy: 0.7856\n",
      "Epoch 33/100\n",
      "313/313 [==============================] - 6s 20ms/step - loss: 0.4242 - accuracy: 0.8090 - val_loss: 0.4619 - val_accuracy: 0.7846\n",
      "Epoch 34/100\n",
      "313/313 [==============================] - 6s 21ms/step - loss: 0.4222 - accuracy: 0.8110 - val_loss: 0.4597 - val_accuracy: 0.7816\n",
      "Epoch 35/100\n",
      "313/313 [==============================] - 6s 21ms/step - loss: 0.4213 - accuracy: 0.8127 - val_loss: 0.4588 - val_accuracy: 0.7890\n",
      "Epoch 36/100\n",
      "313/313 [==============================] - 6s 21ms/step - loss: 0.4194 - accuracy: 0.8126 - val_loss: 0.4600 - val_accuracy: 0.7882\n",
      "Epoch 37/100\n",
      "313/313 [==============================] - 7s 21ms/step - loss: 0.4184 - accuracy: 0.8135 - val_loss: 0.4602 - val_accuracy: 0.7818\n",
      "Epoch 38/100\n",
      "313/313 [==============================] - 7s 22ms/step - loss: 0.4171 - accuracy: 0.8134 - val_loss: 0.4541 - val_accuracy: 0.7904\n",
      "Epoch 39/100\n",
      "313/313 [==============================] - 7s 24ms/step - loss: 0.4156 - accuracy: 0.8161 - val_loss: 0.4617 - val_accuracy: 0.7888\n",
      "Epoch 40/100\n",
      "313/313 [==============================] - 8s 26ms/step - loss: 0.4143 - accuracy: 0.8138 - val_loss: 0.4581 - val_accuracy: 0.7880\n",
      "Epoch 41/100\n",
      "313/313 [==============================] - 9s 30ms/step - loss: 0.4126 - accuracy: 0.8163 - val_loss: 0.4619 - val_accuracy: 0.7842\n"
     ]
    }
   ],
   "source": [
    "history = model.fit(train_oh, y_train, epochs = 100, batch_size = 64, validation_data = (val_oh, y_val),\n",
    "                    callbacks = [checkpoint_cb, early_stopping_cb])"
   ]
  },
  {
   "cell_type": "code",
   "execution_count": 28,
   "id": "9eb51d44",
   "metadata": {
    "scrolled": false
   },
   "outputs": [
    {
     "data": {
      "image/png": "[encoded data removed]",
      "text/plain": [
       "<Figure size 640x480 with 1 Axes>"
      ]
     },
     "metadata": {},
     "output_type": "display_data"
    }
   ],
   "source": [
    "plt.figure()\n",
    "\n",
    "plt.plot(history.history[\"loss\"], label = \"train_loss\")\n",
    "plt.plot(history.history[\"val_loss\"], label = \"val_loss\")\n",
    "plt.plot(history.history[\"accuracy\"], label = \"train_acc\")\n",
    "plt.plot(history.history[\"val_accuracy\"], label = \"val_acc\")\n",
    "\n",
    "plt.legend()\n",
    "plt.xlabel(\"epoch\")\n",
    "plt.show()"
   ]
  },
  {
   "cell_type": "markdown",
   "id": "af04282c",
   "metadata": {},
   "source": [
    "- 원핫인코딩의 단점\n",
    "    - 입력 데이터가 매우 커짐"
   ]
  },
  {
   "cell_type": "code",
   "execution_count": 29,
   "id": "b3e59737",
   "metadata": {},
   "outputs": [
    {
     "name": "stdout",
     "output_type": "stream",
     "text": [
      "8000000 4000000000\n"
     ]
    }
   ],
   "source": [
    "print(train_seq.nbytes, train_oh.nbytes)"
   ]
  },
  {
   "cell_type": "code",
   "execution_count": 31,
   "id": "56a7f11c",
   "metadata": {},
   "outputs": [
    {
     "data": {
      "text/plain": [
       "500.0"
      ]
     },
     "execution_count": 31,
     "metadata": {},
     "output_type": "execute_result"
    }
   ],
   "source": [
    "train_oh.nbytes / train_seq.nbytes"
   ]
  },
  {
   "cell_type": "markdown",
   "id": "c8053f0d",
   "metadata": {},
   "source": [
    "- 토큰 1개를 500차원으로 늘렸기 때문에 500배가 커짐\n",
    "    - 훈련 데이터가 커질수록 문제가 더 심해짐"
   ]
  },
  {
   "cell_type": "markdown",
   "id": "d94f9ad6",
   "metadata": {},
   "source": [
    "# 단어 임베딩을 활용한 RNN 텍스트 분류\n",
    "\n",
    "<img src = \"./image/embedding.png\">"
   ]
  },
  {
   "cell_type": "markdown",
   "id": "911d39e3",
   "metadata": {},
   "source": [
    "- 단어 임베딩(word embedding)\n",
    "    - 순환 신경망에서 텍스트를 처리할 때 즐겨 사용하는 방법\n",
    "    - 각 단어를 고정된 크기의 실수 벡터로 변환\n",
    "    \n",
    "- 단어 임베딩으로 만들어진 벡터는 원핫인코딩 벡터보다 훨씬 의미있는 값으로 채워져 있음\n",
    "    - 자연어 처리에서 더 좋은 성능을 내는 경우가 많음\n",
    "    - 단어 임베딩 벡터를 만드는 층은 Embedding 클래스로 케라스에서 제공\n",
    "        - 처음에는 모든 벡터가 랜덤하게 초기화되고 훈련을 통해 데이터에서 좋은 단어 임베딩을 학습\n",
    "        \n",
    "- 단어 임베딩의 장점\n",
    "    - 입력으로 정수 데이터를 받음\n",
    "        - 원핫인코딩으로 변경된 배열이 아니라 train_seq를 바로 사용할 수 있음\n",
    "        - 메모리를 훨씬 효율적으로 사용할 수 있음\n",
    "    - 원핫인코딩보다 훨씬 작은 크기로도 단어를 잘 표현할 수 있음"
   ]
  },
  {
   "cell_type": "code",
   "execution_count": 34,
   "id": "a571ac6d",
   "metadata": {},
   "outputs": [],
   "source": [
    "model2 = keras.Sequential()\n",
    "model2.add(keras.layers.Embedding(500, 16, input_length = 100))\n",
    "model2.add(keras.layers.SimpleRNN(8))\n",
    "model2.add(keras.layers.Dense(1, activation = \"sigmoid\"))"
   ]
  },
  {
   "cell_type": "markdown",
   "id": "5876293b",
   "metadata": {},
   "source": [
    "- Embedding\n",
    "    - 첫 번째 매개변수는 어휘 사전의 크기\n",
    "        - 앞에서 IMDB 데이터셋에서 500개의 단어만 사용하도록 설정했기 때문에 같은 값으로 설정\n",
    "    - 두 번째 매개변수는 임베딩 벡터의 크기\n",
    "    - input_length 매개변수는 입력 시퀀스의 길이\n",
    "        - 앞에서 샘플의 길이를 100으로 맞추어서 같은 값으로 설정"
   ]
  },
  {
   "cell_type": "code",
   "execution_count": 36,
   "id": "6b7adf10",
   "metadata": {},
   "outputs": [
    {
     "name": "stdout",
     "output_type": "stream",
     "text": [
      "Model: \"sequential_3\"\n",
      "_________________________________________________________________\n",
      " Layer (type)                Output Shape              Param #   \n",
      "=================================================================\n",
      " embedding (Embedding)       (None, 100, 16)           8000      \n",
      "                                                                 \n",
      " simple_rnn_1 (SimpleRNN)    (None, 8)                 200       \n",
      "                                                                 \n",
      " dense_1 (Dense)             (None, 1)                 9         \n",
      "                                                                 \n",
      "=================================================================\n",
      "Total params: 8,209\n",
      "Trainable params: 8,209\n",
      "Non-trainable params: 0\n",
      "_________________________________________________________________\n"
     ]
    }
   ],
   "source": [
    "model2.summary()"
   ]
  },
  {
   "cell_type": "markdown",
   "id": "e26abc29",
   "metadata": {},
   "source": [
    "- Embedding\n",
    "    - (100,)크기의 입력을 받아 (100, 16)크기의 출력을 만듦\n",
    "    - 500개의 각 토큰을 크기가 16인 벡터로 변경\n",
    "        - 500 * 16 = 8000 개의 파라미터를 가짐\n",
    "        \n",
    "- SimpleRNN\n",
    "    - 임베딩 벡터의 크기가 16, 뉴런의 개수 8\n",
    "        - 16 * 8 = 128\n",
    "        \n",
    "    - 은닉 상태에 곱해지는 가중치\n",
    "        - 8 * 8 = 64\n",
    "        \n",
    "    - 8개의 절편\n",
    "    - 128 + 64 + 8 = 200"
   ]
  },
  {
   "cell_type": "code",
   "execution_count": 37,
   "id": "77742dbb",
   "metadata": {},
   "outputs": [],
   "source": [
    "rmsprop = keras.optimizers.RMSprop(learning_rate = 1e-4)\n",
    "model2.compile(optimizer = rmsprop, loss = \"binary_crossentropy\", metrics = [\"accuracy\"])\n",
    "checkpoint_cb = keras.callbacks.ModelCheckpoint(\"./model/best-embedding-model.h5\", save_best_only = True)\n",
    "early_stopping_cb = keras.callbacks.EarlyStopping(patience = 3, restore_best_weights = True)"
   ]
  },
  {
   "cell_type": "code",
   "execution_count": 38,
   "id": "24b912b0",
   "metadata": {
    "scrolled": true
   },
   "outputs": [
    {
     "name": "stdout",
     "output_type": "stream",
     "text": [
      "Epoch 1/100\n",
      "313/313 [==============================] - 5s 12ms/step - loss: 0.6951 - accuracy: 0.5085 - val_loss: 0.6923 - val_accuracy: 0.5176\n",
      "Epoch 2/100\n",
      "313/313 [==============================] - 4s 12ms/step - loss: 0.6891 - accuracy: 0.5425 - val_loss: 0.6871 - val_accuracy: 0.5486\n",
      "Epoch 3/100\n",
      "313/313 [==============================] - 4s 12ms/step - loss: 0.6738 - accuracy: 0.6115 - val_loss: 0.6475 - val_accuracy: 0.6836\n",
      "Epoch 4/100\n",
      "313/313 [==============================] - 5s 16ms/step - loss: 0.6288 - accuracy: 0.7006 - val_loss: 0.6200 - val_accuracy: 0.7014\n",
      "Epoch 5/100\n",
      "313/313 [==============================] - 4s 11ms/step - loss: 0.6030 - accuracy: 0.7290 - val_loss: 0.6003 - val_accuracy: 0.7288\n",
      "Epoch 6/100\n",
      "313/313 [==============================] - 5s 16ms/step - loss: 0.5842 - accuracy: 0.7416 - val_loss: 0.5837 - val_accuracy: 0.7356\n",
      "Epoch 7/100\n",
      "313/313 [==============================] - 4s 12ms/step - loss: 0.5664 - accuracy: 0.7551 - val_loss: 0.5718 - val_accuracy: 0.7380\n",
      "Epoch 8/100\n",
      "313/313 [==============================] - 5s 16ms/step - loss: 0.5523 - accuracy: 0.7585 - val_loss: 0.5594 - val_accuracy: 0.7424\n",
      "Epoch 9/100\n",
      "313/313 [==============================] - 4s 12ms/step - loss: 0.5374 - accuracy: 0.7660 - val_loss: 0.5482 - val_accuracy: 0.7466\n",
      "Epoch 10/100\n",
      "313/313 [==============================] - 5s 16ms/step - loss: 0.5250 - accuracy: 0.7701 - val_loss: 0.5352 - val_accuracy: 0.7536\n",
      "Epoch 11/100\n",
      "313/313 [==============================] - 4s 13ms/step - loss: 0.5151 - accuracy: 0.7733 - val_loss: 0.5281 - val_accuracy: 0.7582\n",
      "Epoch 12/100\n",
      "313/313 [==============================] - 5s 16ms/step - loss: 0.5080 - accuracy: 0.7742 - val_loss: 0.5185 - val_accuracy: 0.7626\n",
      "Epoch 13/100\n",
      "313/313 [==============================] - 4s 13ms/step - loss: 0.4987 - accuracy: 0.7788 - val_loss: 0.5188 - val_accuracy: 0.7610\n",
      "Epoch 14/100\n",
      "313/313 [==============================] - 5s 15ms/step - loss: 0.5025 - accuracy: 0.7711 - val_loss: 0.5245 - val_accuracy: 0.7502\n",
      "Epoch 15/100\n",
      "313/313 [==============================] - 4s 14ms/step - loss: 0.4905 - accuracy: 0.7811 - val_loss: 0.5082 - val_accuracy: 0.7644\n",
      "Epoch 16/100\n",
      "313/313 [==============================] - 5s 15ms/step - loss: 0.4804 - accuracy: 0.7876 - val_loss: 0.5018 - val_accuracy: 0.7682\n",
      "Epoch 17/100\n",
      "313/313 [==============================] - 5s 14ms/step - loss: 0.4742 - accuracy: 0.7914 - val_loss: 0.4981 - val_accuracy: 0.7722\n",
      "Epoch 18/100\n",
      "313/313 [==============================] - 4s 14ms/step - loss: 0.4705 - accuracy: 0.7924 - val_loss: 0.5000 - val_accuracy: 0.7716\n",
      "Epoch 19/100\n",
      "313/313 [==============================] - 5s 15ms/step - loss: 0.4643 - accuracy: 0.7966 - val_loss: 0.4927 - val_accuracy: 0.7752\n",
      "Epoch 20/100\n",
      "313/313 [==============================] - 4s 14ms/step - loss: 0.4607 - accuracy: 0.7961 - val_loss: 0.4965 - val_accuracy: 0.7652\n",
      "Epoch 21/100\n",
      "313/313 [==============================] - 5s 15ms/step - loss: 0.4567 - accuracy: 0.7988 - val_loss: 0.4987 - val_accuracy: 0.7644\n",
      "Epoch 22/100\n",
      "313/313 [==============================] - 4s 13ms/step - loss: 0.4535 - accuracy: 0.8022 - val_loss: 0.4841 - val_accuracy: 0.7776\n",
      "Epoch 23/100\n",
      "313/313 [==============================] - 5s 16ms/step - loss: 0.4497 - accuracy: 0.8059 - val_loss: 0.4845 - val_accuracy: 0.7780\n",
      "Epoch 24/100\n",
      "313/313 [==============================] - 4s 13ms/step - loss: 0.4445 - accuracy: 0.8063 - val_loss: 0.4829 - val_accuracy: 0.7780\n",
      "Epoch 25/100\n",
      "313/313 [==============================] - 5s 17ms/step - loss: 0.4414 - accuracy: 0.8099 - val_loss: 0.4849 - val_accuracy: 0.7770\n",
      "Epoch 26/100\n",
      "313/313 [==============================] - 4s 13ms/step - loss: 0.4385 - accuracy: 0.8103 - val_loss: 0.4834 - val_accuracy: 0.7770\n",
      "Epoch 27/100\n",
      "313/313 [==============================] - 5s 15ms/step - loss: 0.4358 - accuracy: 0.8117 - val_loss: 0.4797 - val_accuracy: 0.7808\n",
      "Epoch 28/100\n",
      "313/313 [==============================] - 5s 15ms/step - loss: 0.4326 - accuracy: 0.8127 - val_loss: 0.4763 - val_accuracy: 0.7790\n",
      "Epoch 29/100\n",
      "313/313 [==============================] - 5s 15ms/step - loss: 0.4306 - accuracy: 0.8143 - val_loss: 0.4794 - val_accuracy: 0.7754\n",
      "Epoch 30/100\n",
      "313/313 [==============================] - 5s 15ms/step - loss: 0.4282 - accuracy: 0.8163 - val_loss: 0.4760 - val_accuracy: 0.7792\n",
      "Epoch 31/100\n",
      "313/313 [==============================] - 5s 15ms/step - loss: 0.4251 - accuracy: 0.8181 - val_loss: 0.4748 - val_accuracy: 0.7840\n",
      "Epoch 32/100\n",
      "313/313 [==============================] - 5s 15ms/step - loss: 0.4229 - accuracy: 0.8191 - val_loss: 0.4731 - val_accuracy: 0.7850\n",
      "Epoch 33/100\n",
      "313/313 [==============================] - 5s 15ms/step - loss: 0.4196 - accuracy: 0.8212 - val_loss: 0.4718 - val_accuracy: 0.7822\n",
      "Epoch 34/100\n",
      "313/313 [==============================] - 5s 16ms/step - loss: 0.4184 - accuracy: 0.8208 - val_loss: 0.4822 - val_accuracy: 0.7728\n",
      "Epoch 35/100\n",
      "313/313 [==============================] - 5s 15ms/step - loss: 0.4160 - accuracy: 0.8228 - val_loss: 0.4719 - val_accuracy: 0.7820\n",
      "Epoch 36/100\n",
      "313/313 [==============================] - 5s 16ms/step - loss: 0.4140 - accuracy: 0.8238 - val_loss: 0.4694 - val_accuracy: 0.7858\n",
      "Epoch 37/100\n",
      "313/313 [==============================] - 5s 15ms/step - loss: 0.4130 - accuracy: 0.8253 - val_loss: 0.4754 - val_accuracy: 0.7786\n",
      "Epoch 38/100\n",
      "313/313 [==============================] - 5s 16ms/step - loss: 0.4108 - accuracy: 0.8260 - val_loss: 0.4790 - val_accuracy: 0.7736\n",
      "Epoch 39/100\n",
      "313/313 [==============================] - 5s 16ms/step - loss: 0.4087 - accuracy: 0.8267 - val_loss: 0.4682 - val_accuracy: 0.7860\n",
      "Epoch 40/100\n",
      "313/313 [==============================] - 5s 17ms/step - loss: 0.4078 - accuracy: 0.8279 - val_loss: 0.4673 - val_accuracy: 0.7844\n",
      "Epoch 41/100\n",
      "313/313 [==============================] - 5s 17ms/step - loss: 0.4060 - accuracy: 0.8281 - val_loss: 0.4698 - val_accuracy: 0.7860\n",
      "Epoch 42/100\n",
      "313/313 [==============================] - 5s 17ms/step - loss: 0.4038 - accuracy: 0.8288 - val_loss: 0.4711 - val_accuracy: 0.7878\n",
      "Epoch 43/100\n",
      "313/313 [==============================] - 6s 19ms/step - loss: 0.4023 - accuracy: 0.8301 - val_loss: 0.4679 - val_accuracy: 0.7892\n"
     ]
    }
   ],
   "source": [
    "history = model2.fit(train_seq, y_train, epochs = 100, batch_size = 64, validation_data = (val_seq, y_val),\n",
    "                     callbacks = [checkpoint_cb, early_stopping_cb])"
   ]
  },
  {
   "cell_type": "code",
   "execution_count": 39,
   "id": "e5cef122",
   "metadata": {},
   "outputs": [
    {
     "data": {
      "image/png": "[encoded data removed]",
      "text/plain": [
       "<Figure size 640x480 with 1 Axes>"
      ]
     },
     "metadata": {},
     "output_type": "display_data"
    }
   ],
   "source": [
    "plt.figure()\n",
    "\n",
    "plt.plot(history.history[\"loss\"], label = \"train_loss\")\n",
    "plt.plot(history.history[\"val_loss\"], label = \"val_loss\")\n",
    "plt.plot(history.history[\"accuracy\"], label = \"train_acc\")\n",
    "plt.plot(history.history[\"val_accuracy\"], label = \"val_acc\")\n",
    "\n",
    "plt.legend()\n",
    "plt.xlabel(\"epoch\")\n",
    "plt.show()"
   ]
  }
 ],
 "metadata": {
  "kernelspec": {
   "display_name": "python310",
   "language": "python",
   "name": "python310"
  },
  "language_info": {
   "codemirror_mode": {
    "name": "ipython",
    "version": 3
   },
   "file_extension": ".py",
   "mimetype": "text/x-python",
   "name": "python",
   "nbconvert_exporter": "python",
   "pygments_lexer": "ipython3",
   "version": "3.10.8"
  }
 },
 "nbformat": 4,
 "nbformat_minor": 5
}
